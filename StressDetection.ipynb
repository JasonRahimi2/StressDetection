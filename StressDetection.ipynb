{
 "cells": [
  {
   "cell_type": "code",
   "execution_count": null,
   "id": "8e89a2c7-8b81-4857-89f0-5c8bbac948b9",
   "metadata": {},
   "outputs": [],
   "source": [
    "import tensorflow as tf\n",
    "import numpy as np\n",
    "import matplotlib.pyplot as plt\n",
    "from keras.models import Sequential\n",
    "from keras.layers import Activation, Dense, Flatten, Conv2D, MaxPool2D\n",
    "from keras.optimizers import Adam\n",
    "from keras.losses import BinaryCrossentropy\n",
    "from keras.src.legacy.preprocessing.image import ImageDataGenerator\n",
    "from keras.preprocessing import image\n",
    "from PIL import Image"
   ]
  },
  {
   "cell_type": "code",
   "execution_count": null,
   "id": "eccc1e45-1f5b-4cad-93d6-5106269ac3de",
   "metadata": {},
   "outputs": [],
   "source": [
    "train_path = '/stress/KDEF/KDEF/Train'\n",
    "valid_path = '/stress/KDEF/KDEF/Test'"
   ]
  },
  {
   "cell_type": "code",
   "execution_count": null,
   "id": "652195cd-653c-4644-bd19-3e4c7bbb1284",
   "metadata": {},
   "outputs": [],
   "source": [
    "train_batches = ImageDataGenerator(preprocessing_function=tf.keras.applications.vgg16.preprocess_input).flow_from_directory(directory=train_path, target_size=(256, 256), classes=['NoStress', 'Stress'], batch_size=64)\n",
    "valid_batches = ImageDataGenerator(preprocessing_function=tf.keras.applications.vgg16.preprocess_input).flow_from_directory(directory=valid_path, target_size=(256, 256), classes=['NoStress', 'Stress'], batch_size=64)"
   ]
  },
  {
   "cell_type": "code",
   "execution_count": null,
   "id": "a1f217a9-8594-4c57-9349-8a089c705bc3",
   "metadata": {},
   "outputs": [],
   "source": [
    "imgs, labels = next(train_batches)"
   ]
  },
  {
   "cell_type": "code",
   "execution_count": null,
   "id": "6361546a-7491-4133-ba03-82e03b462c76",
   "metadata": {},
   "outputs": [],
   "source": [
    "def PlotImages(images_arr):\n",
    "    fig, axes = plt.subplots(1, 10, figsize=(20, 20))\n",
    "    axes = axes.flatten()\n",
    "    for img, ax in zip( images_arr, axes):\n",
    "        ax.imshow(img)\n",
    "        ax.axis('off')\n",
    "    plt.tight_layout()\n",
    "    plt.show()"
   ]
  },
  {
   "cell_type": "code",
   "execution_count": null,
   "id": "0459a7e4-2546-44c0-96a5-2a8ec00eca12",
   "metadata": {
    "scrolled": true
   },
   "outputs": [],
   "source": [
    "PlotImages(imgs)\n",
    "print(labels)"
   ]
  },
  {
   "cell_type": "code",
   "execution_count": null,
   "id": "b3b1c4a0-b7c0-490f-a6de-e36153bc077a",
   "metadata": {},
   "outputs": [],
   "source": [
    "model = Sequential([\n",
    "    Conv2D(filters=32, kernel_size=(3, 3), activation='relu', input_shape=(256, 256, 3)),\n",
    "    MaxPool2D(pool_size=(2, 2)),\n",
    "    Conv2D(filters=32, kernel_size=(3, 3), activation='relu'),\n",
    "    MaxPool2D(pool_size=(2, 2)),\n",
    "    Conv2D(filters=64, kernel_size=(3, 3), activation='relu'),\n",
    "    MaxPool2D(pool_size=(2, 2)),\n",
    "    Conv2D(filters=128, kernel_size=(3, 3), activation='relu'),\n",
    "    MaxPool2D(pool_size=(2, 2)),\n",
    "    Flatten(),\n",
    "    Dense(units=2, activation='softmax'),\n",
    "])"
   ]
  },
  {
   "cell_type": "code",
   "execution_count": null,
   "id": "65514cd4-32b5-46ac-b5ae-da6c000dacb2",
   "metadata": {},
   "outputs": [],
   "source": [
    "model.summary()"
   ]
  },
  {
   "cell_type": "code",
   "execution_count": null,
   "id": "dcc9aac6-8a3f-485d-951b-69719122d4f5",
   "metadata": {},
   "outputs": [],
   "source": [
    "model.compile(optimizer=Adam(learning_rate=0.001), loss='BinaryCrossentropy', metrics=['accuracy'])"
   ]
  },
  {
   "cell_type": "code",
   "execution_count": null,
   "id": "71505aab-9b0b-429a-b93a-ec659667d4e7",
   "metadata": {
    "scrolled": true
   },
   "outputs": [],
   "source": [
    "model.fit(x=train_batches, validation_data=valid_batches, class_weight={0: 1.0, 1: 1.0}, epochs=5, verbose=1)"
   ]
  },
  {
   "cell_type": "code",
   "execution_count": null,
   "id": "2ffa06c0-8037-483f-a856-46365889fad7",
   "metadata": {},
   "outputs": [],
   "source": [
    "def preprocess_image(img_path, target_size=(256, 256)):\n",
    "    img = Image.open(img_path)\n",
    "    img = img.resize(target_size)\n",
    "    img_array = image.img_to_array(img)\n",
    "    img_array = np.expand_dims(img_array, axis=0)\n",
    "    img_array = tf.keras.applications.vgg16.preprocess_input(img_array)\n",
    "    return img_array"
   ]
  },
  {
   "cell_type": "code",
   "execution_count": null,
   "id": "31090711-80f4-41f2-b1da-167fb89a0cbe",
   "metadata": {},
   "outputs": [],
   "source": [
    "def predict_image_class(img_path, model):\n",
    "    preprocessed_img = preprocess_image(img_path)\n",
    "    PlotImages(preprocessed_img)\n",
    "    predictions = model.predict(preprocessed_img)\n",
    "    return predictions"
   ]
  },
  {
   "cell_type": "code",
   "execution_count": null,
   "id": "3774b621-b04b-4fbe-bf91-dd6879a80500",
   "metadata": {},
   "outputs": [],
   "source": [
    "img_path = 'image.jpg'\n",
    "predicted_class = predict_image_class(img_path, model)\n",
    "print(f'model is this confident the image does not show stress: {predicted_class[0][0]} and this confident the image shows stress: {predicted_class[0][1]}')"
   ]
  },
  {
   "cell_type": "code",
   "execution_count": null,
   "id": "8c4b39a5-3d88-49f6-8f89-0c1441457c03",
   "metadata": {},
   "outputs": [],
   "source": [
    "#model.save('stressed.h5')"
   ]
  }
 ],
 "metadata": {
  "kernelspec": {
   "display_name": "Python 3 (ipykernel)",
   "language": "python",
   "name": "python3"
  },
  "language_info": {
   "codemirror_mode": {
    "name": "ipython",
    "version": 3
   },
   "file_extension": ".py",
   "mimetype": "text/x-python",
   "name": "python",
   "nbconvert_exporter": "python",
   "pygments_lexer": "ipython3",
   "version": "3.11.9"
  }
 },
 "nbformat": 4,
 "nbformat_minor": 5
}
